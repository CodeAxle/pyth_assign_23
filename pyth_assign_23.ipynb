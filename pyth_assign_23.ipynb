{
 "cells": [
  {
   "cell_type": "markdown",
   "id": "4a7144dd",
   "metadata": {},
   "source": [
    "# 1."
   ]
  },
  {
   "cell_type": "code",
   "execution_count": 2,
   "id": "eaf758f1",
   "metadata": {},
   "outputs": [
    {
     "name": "stdout",
     "output_type": "stream",
     "text": [
      "1 2 8\n"
     ]
    }
   ],
   "source": [
    "# code(result):\n",
    "def func(a, b=6, c=8):\n",
    "    print(a, b, c)\n",
    "func(1, 2)"
   ]
  },
  {
   "cell_type": "code",
   "execution_count": 3,
   "id": "a96d2d61",
   "metadata": {},
   "outputs": [],
   "source": [
    "# explaination:\n",
    "# i) func(1, 2) is called.\n",
    "# ii) a receives the value 1.\n",
    "# iii) b receives the value 2.\n",
    "# iv) Since no argument is provided for c, it takes its default value 8."
   ]
  },
  {
   "cell_type": "markdown",
   "id": "b9dab2e1",
   "metadata": {},
   "source": [
    "# 2."
   ]
  },
  {
   "cell_type": "code",
   "execution_count": 4,
   "id": "270d0f45",
   "metadata": {},
   "outputs": [
    {
     "name": "stdout",
     "output_type": "stream",
     "text": [
      "1 2 3\n"
     ]
    }
   ],
   "source": [
    "# code(result):\n",
    "def func(a, b, c=5):\n",
    "    print(a, b, c)\n",
    "func(1, c=3, b=2)"
   ]
  },
  {
   "cell_type": "code",
   "execution_count": 5,
   "id": "0dcaea47",
   "metadata": {},
   "outputs": [],
   "source": [
    "# explaination:\n",
    "#i) The function func prints the values of its parameters a, b, and c.\n",
    "#ii) When func(1, c=3, b=2) is called, 1 is assigned to a, 2 is explicitly assigned to b, and 3 is explicitly assigned to c.\n",
    "#iii) Hence, the output shows 1 2 3."
   ]
  },
  {
   "cell_type": "markdown",
   "id": "45afea82",
   "metadata": {},
   "source": [
    "# 3."
   ]
  },
  {
   "cell_type": "code",
   "execution_count": 6,
   "id": "464c72d2",
   "metadata": {},
   "outputs": [
    {
     "name": "stdout",
     "output_type": "stream",
     "text": [
      "1 (2, 3)\n"
     ]
    }
   ],
   "source": [
    "# code(result):\n",
    "def func(a, *pargs):\n",
    "    print(a, pargs)\n",
    "func(1, 2, 3)"
   ]
  },
  {
   "cell_type": "code",
   "execution_count": 7,
   "id": "a5436612",
   "metadata": {},
   "outputs": [],
   "source": [
    "# explaination:\n",
    "# i) The function func prints the value of a and the tuple pargs.\n",
    "# ii) When func(1, 2, 3) is called, 1 is assigned to a, and the remaining arguments 2 and 3 are collected into pargs as (2, 3).\n",
    "# iii) Hence, the output shows 1 (2, 3)."
   ]
  },
  {
   "cell_type": "markdown",
   "id": "5f1c884c",
   "metadata": {},
   "source": [
    "# 4."
   ]
  },
  {
   "cell_type": "code",
   "execution_count": 8,
   "id": "f45d9bd0",
   "metadata": {},
   "outputs": [
    {
     "name": "stdout",
     "output_type": "stream",
     "text": [
      "1 {'c': 3, 'b': 2}\n"
     ]
    }
   ],
   "source": [
    "# code(result):\n",
    "def func(a, **kargs):\n",
    "    print(a, kargs)\n",
    "func(a=1, c=3, b=2)"
   ]
  },
  {
   "cell_type": "code",
   "execution_count": 9,
   "id": "b5f50678",
   "metadata": {},
   "outputs": [],
   "source": [
    "# explaination:\n",
    "# i) The function func prints the value of a and the dictionary kargs.\n",
    "# ii) When func(a=1, c=3, b=2) is called, 1 is assigned to a, and the keyword arguments c=3 and b=2 are collected into kargs \n",
    "#     as {'c': 3, 'b': 2}.\n",
    "# iii) Hence, the output shows 1 {'c': 3, 'b': 2}."
   ]
  },
  {
   "cell_type": "markdown",
   "id": "b43783d2",
   "metadata": {},
   "source": [
    "# 5."
   ]
  },
  {
   "cell_type": "code",
   "execution_count": 10,
   "id": "d10d9566",
   "metadata": {},
   "outputs": [
    {
     "name": "stdout",
     "output_type": "stream",
     "text": [
      "1 5 6 5\n"
     ]
    }
   ],
   "source": [
    "# code(result):\n",
    "def func(a, b, c=8, d=5): print(a, b, c, d)\n",
    "func(1, *(5, 6))"
   ]
  },
  {
   "cell_type": "code",
   "execution_count": 11,
   "id": "f9691592",
   "metadata": {},
   "outputs": [],
   "source": [
    "# explaination:\n",
    "# i) The function func(a, b, c=8, d=5) expects four arguments: a, b, c, and d.\n",
    "# ii) When you call func(1, *(5, 6)), 1 is assigned to a, and *(5, 6) unpacks the tuple (5, 6) into individual arguments, \n",
    "#     resulting in b=5 and c=6 (since c is the third argument in the function signature).\n",
    "# iii) The default value d=5 is used for the fourth argument because no value is provided for d."
   ]
  },
  {
   "cell_type": "markdown",
   "id": "6716028e",
   "metadata": {},
   "source": [
    "# 6."
   ]
  },
  {
   "cell_type": "code",
   "execution_count": 12,
   "id": "aa025b85",
   "metadata": {},
   "outputs": [
    {
     "data": {
      "text/plain": [
       "(1, ['x'], {'a': 'y'})"
      ]
     },
     "execution_count": 12,
     "metadata": {},
     "output_type": "execute_result"
    }
   ],
   "source": [
    "# code(result):\n",
    "def func(a, b, c): a = 2; b[0] = 'x'; c['a'] = 'y'\n",
    "l=1; m=[1]; n={'a':0}\n",
    "func(l, m, n)\n",
    "\n",
    "l, m, n"
   ]
  },
  {
   "cell_type": "code",
   "execution_count": 13,
   "id": "e948a432",
   "metadata": {},
   "outputs": [],
   "source": [
    "# explaination:\n",
    "\n",
    "# First, we define a function func that takes three arguments: a, b, and c. Inside the function:\n",
    "# 1. a = 2 assigns the integer value 2 to the local variable a.\n",
    "# 2. b[0] = 'x' modifies the first element of list b to 'x'.\n",
    "# 3. c['a'] = 'y' adds a new key-value pair 'a': 'y' to dictionary c.\n",
    "\n",
    "# Then, we create three variables:\n",
    "# 1. l = 1 assigns the integer value 1 to variable l.\n",
    "# 2. m = [1] creates a list with one element 1 and assigns it to variable m.\n",
    "# 3. n = {'a': 0} creates a dictionary with one key-value pair 'a': 0 and assigns it to variable n.\n",
    "# 4. Next, we call the function func with arguments l, m, and n.\n",
    "\n",
    "# Now, let's see the changes made by the function func to the variables l, m, and n:\n",
    "# 1. l is an integer, and integers are immutable in Python, so a = 2 inside func does not affect l. Therefore, l remains 1.\n",
    "# 2. m is a list, and lists are mutable. Inside func, b[0] = 'x' modifies the first element of m to 'x'. Therefore, m becomes ['x'].\n",
    "# 3. n is a dictionary, and dictionaries are mutable. Inside func, c['a'] = 'y' adds a key 'a' with value 'y' to n. Therefore, \n",
    "#     n becomes {'a': 'y'}.\n",
    "\n",
    "# So, after calling func(l, m, n), the values of l, m, and n are:\n",
    "# l remains 1.\n",
    "# m becomes ['x'].\n",
    "# n becomes {'a': 'y'}.\n",
    "\n",
    "# Therefore, when you print l, m, n after calling func, you'll get (1, ['x'], {'a': 'y'})."
   ]
  },
  {
   "cell_type": "code",
   "execution_count": null,
   "id": "faf47fac",
   "metadata": {},
   "outputs": [],
   "source": []
  }
 ],
 "metadata": {
  "kernelspec": {
   "display_name": "Python 3 (ipykernel)",
   "language": "python",
   "name": "python3"
  },
  "language_info": {
   "codemirror_mode": {
    "name": "ipython",
    "version": 3
   },
   "file_extension": ".py",
   "mimetype": "text/x-python",
   "name": "python",
   "nbconvert_exporter": "python",
   "pygments_lexer": "ipython3",
   "version": "3.11.5"
  }
 },
 "nbformat": 4,
 "nbformat_minor": 5
}
